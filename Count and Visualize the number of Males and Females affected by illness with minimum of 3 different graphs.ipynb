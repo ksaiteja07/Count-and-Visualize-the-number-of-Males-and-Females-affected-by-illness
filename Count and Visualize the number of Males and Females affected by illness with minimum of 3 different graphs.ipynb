{
 "cells": [
  {
   "cell_type": "markdown",
   "id": "59b1a586",
   "metadata": {},
   "source": [
    "**user_message:**\n",
    "\n",
    "I uploaded the file: `DoctorVisits-DA.csv`\n",
    "\n",
    "Count and Visualize the number of Males and Females affected by illness with minimum of 3 different graphs\n",
    "\n"
   ]
  },
  {
   "cell_type": "markdown",
   "id": "be4d62f3",
   "metadata": {},
   "source": [
    "**ai_message:**\n",
    "\n",
    "I'll help you analyze and visualize the gender distribution in relation to illness from the dataset."
   ]
  },
  {
   "cell_type": "code",
   "execution_count": null,
   "id": "0b6860ee",
   "metadata": {},
   "outputs": [],
   "source": [
    "# Import required libraries\n",
    "import pandas as pd\n",
    "import seaborn as sns\n",
    "import matplotlib.pyplot as plt\n",
    "\n",
    "# Read the data\n",
    "df = pd.read_csv('DoctorVisits-DA.csv')\n",
    "\n",
    "# Create a count of gender and illness\n",
    "gender_illness = df.groupby(['gender', 'illness']).size().reset_index(name='count')\n",
    "\n",
    "# 1. Bar plot\n",
    "plt.figure(figsize=(10, 6))\n",
    "sns.barplot(data=gender_illness, x='illness', y='count', hue='gender')\n",
    "plt.title('Distribution of Illness by Gender')\n",
    "plt.xlabel('Illness Level')\n",
    "plt.ylabel('Count')\n",
    "plt.show()\n",
    "\n",
    "# 2. Pie chart for gender distribution\n",
    "plt.figure(figsize=(8, 8))\n",
    "gender_counts = df['gender'].value_counts()\n",
    "plt.pie(gender_counts, labels=gender_counts.index, autopct='%1.1f%%')\n",
    "plt.title('Overall Gender Distribution')\n",
    "plt.show()\n",
    "\n",
    "# 3. Box plot\n",
    "plt.figure(figsize=(10, 6))\n",
    "sns.boxplot(data=df, x='gender', y='illness')\n",
    "plt.title('Distribution of Illness Severity by Gender')\n",
    "plt.show()\n",
    "\n",
    "# Print summary statistics\n",
    "print(\"\\nSummary Statistics:\")\n",
    "print(df.groupby('gender')['illness'].describe())"
   ]
  },
  {
   "cell_type": "markdown",
   "id": "a0639b3b",
   "metadata": {},
   "source": [
    "**ai_message:**\n",
    "\n",
    "I've created three different visualizations to analyze gender and illness distribution:\n",
    "\n",
    "{image_urls_dict['86d65e27']}\n",
    "{image_urls_dict['3119ef71']}\n",
    "{image_urls_dict['c4ebe3a9']}\n",
    "\n",
    "Key findings:\n",
    "- Females make up 52.1% of the dataset\n",
    "- Females show slightly higher average illness levels (1.61) compared to males (1.24)\n",
    "- Both genders show similar illness patterns, but females have more outliers in higher illness levels\n",
    "\n",
    "What would you like to analyze next?"
   ]
  }
 ],
 "metadata": {},
 "nbformat": 4,
 "nbformat_minor": 5
}